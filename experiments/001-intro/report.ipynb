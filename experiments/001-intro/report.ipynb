{
 "cells": [
  {
   "cell_type": "markdown",
   "id": "abeb0ea8",
   "metadata": {},
   "source": [
    "# 001 - Demonstration of Toeplitz Mixers in Pytorch"
   ]
  }
 ],
 "metadata": {
  "language_info": {
   "name": "python"
  }
 },
 "nbformat": 4,
 "nbformat_minor": 5
}
