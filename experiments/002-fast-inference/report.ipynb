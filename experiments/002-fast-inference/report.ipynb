{
 "cells": [
  {
   "cell_type": "markdown",
   "id": "f3272ecf",
   "metadata": {},
   "source": [
    "# 002 - Fast autoregressive inference via activation caching"
   ]
  }
 ],
 "metadata": {
  "language_info": {
   "name": "python"
  }
 },
 "nbformat": 4,
 "nbformat_minor": 5
}
