{
 "cells": [
  {
   "cell_type": "markdown",
   "id": "f3272ecf",
   "metadata": {},
   "source": [
    "# 003 - Multiheaded Toeplitz Mixers"
   ]
  }
 ],
 "metadata": {
  "language_info": {
   "name": "python"
  }
 },
 "nbformat": 4,
 "nbformat_minor": 5
}
